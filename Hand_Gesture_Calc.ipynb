{
 "cells": [
  {
   "cell_type": "code",
   "execution_count": 3,
   "metadata": {},
   "outputs": [],
   "source": [
    "import cv2\n",
    "import matplotlib.pyplot as plt\n",
    "import numpy as np\n",
    "import math\n",
    "from sklearn.metrics import pairwise"
   ]
  },
  {
   "cell_type": "code",
   "execution_count": 4,
   "metadata": {},
   "outputs": [],
   "source": [
    "# Create Global Variables\n",
    "background1 = None\n",
    "background2 = None\n",
    "accumulated_weight1 = 0.5\n",
    "accumulated_weight2 =0.5\n",
    "roi_top = 200\n",
    "roi_bottom = 450\n",
    "roi_right = 370\n",
    "roi_left = 620\n",
    "arearatio = 0 \n",
    "expression = []\n",
    "text_expression = ''\n",
    "operators = ['+','-','*','/']\n",
    "sol = None\n",
    "thumb = False\n",
    "new = '0'\n",
    "newOp = ''\n",
    "oldOp = ''"
   ]
  },
  {
   "cell_type": "code",
   "execution_count": 5,
   "metadata": {},
   "outputs": [],
   "source": [
    "# Create the Clear Function\n",
    "def clear_all():\n",
    "    expression = []\n",
    "    text_expression = ''\n",
    "    new = '0'\n",
    "    newOp = ''\n",
    "    oldOp = ''\n",
    "    sol = None\n",
    "    return (expression,text_expression,new,newOp,oldOp,sol)"
   ]
  },
  {
   "cell_type": "code",
   "execution_count": 6,
   "metadata": {},
   "outputs": [],
   "source": [
    "# Create the background detection\n",
    "def background_identification1(frame,accumulated_weight):\n",
    "    global background1\n",
    "    if background1 is None:\n",
    "        background1 = frame.copy().astype('float')\n",
    "        return None\n",
    "    \n",
    "    cv2.accumulateWeighted(frame,background1,accumulated_weight1)"
   ]
  },
  {
   "cell_type": "code",
   "execution_count": 7,
   "metadata": {},
   "outputs": [],
   "source": [
    "# Do the background again\n",
    "def background_identification2(frame,accumulated_weight):\n",
    "    global background2\n",
    "    if background2 is None:\n",
    "        background2 = frame.copy().astype('float')\n",
    "        return None\n",
    "    \n",
    "    cv2.accumulateWeighted(frame,background2,accumulated_weight2)"
   ]
  },
  {
   "cell_type": "code",
   "execution_count": 8,
   "metadata": {},
   "outputs": [],
   "source": [
    "# Segment the hand\n",
    "def segment(frame,background,threshold_min = 30):\n",
    "    diff = cv2.absdiff(background.astype('uint8'),frame)\n",
    "    ret,thresholded = cv2.threshold(diff,threshold_min,255,cv2.THRESH_BINARY)\n",
    "    kernel = np.ones((3,3),np.uint8)\n",
    "    thresholded = cv2.morphologyEx(thresholded,cv2.MORPH_CLOSE,kernel)\n",
    "    contours,hierarchy = cv2.findContours(thresholded.copy(),cv2.RETR_EXTERNAL,cv2.CHAIN_APPROX_SIMPLE)\n",
    "    \n",
    "    if len(contours) == 0:\n",
    "        return None\n",
    "    else:\n",
    "        hand_segment = max(contours,key=cv2.contourArea)\n",
    "        return (thresholded,hand_segment)"
   ]
  },
  {
   "cell_type": "code",
   "execution_count": null,
   "metadata": {},
   "outputs": [],
   "source": []
  }
 ],
 "metadata": {
  "interpreter": {
   "hash": "aee8b7b246df8f9039afb4144a1f6fd8d2ca17a180786b69acc140d282b71a49"
  },
  "kernelspec": {
   "display_name": "Python 3.9.7 64-bit",
   "language": "python",
   "name": "python3"
  },
  "language_info": {
   "codemirror_mode": {
    "name": "ipython",
    "version": 3
   },
   "file_extension": ".py",
   "mimetype": "text/x-python",
   "name": "python",
   "nbconvert_exporter": "python",
   "pygments_lexer": "ipython3",
   "version": "3.9.7"
  },
  "orig_nbformat": 4
 },
 "nbformat": 4,
 "nbformat_minor": 2
}
